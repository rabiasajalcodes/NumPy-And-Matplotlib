{
  "nbformat": 4,
  "nbformat_minor": 0,
  "metadata": {
    "colab": {
      "provenance": []
    },
    "kernelspec": {
      "name": "python3",
      "display_name": "Python 3"
    },
    "language_info": {
      "name": "python"
    }
  },
  "cells": [
    {
      "cell_type": "markdown",
      "source": [
        "###Question NO 1"
      ],
      "metadata": {
        "id": "VHGL6cBgIRV9"
      }
    },
    {
      "cell_type": "markdown",
      "source": [
        "Exercise 1:\n",
        "Create a two-dimensional array of size\n",
        "3×5\n",
        "and do the following:\n",
        "● Print out the array\n",
        "● Print out the shape of the array\n",
        "● Create two slices of the array:\n",
        "1. The first slice should be the last row and the third through last column\n",
        "2. The second slice should be rows\n",
        "3. 1−3\n",
        "4. and columns\n",
        "5. 3−5\n",
        "6.\n",
        "● Square each element in the array and print the result"
      ],
      "metadata": {
        "id": "CcKBH-L3cETO"
      }
    },
    {
      "cell_type": "code",
      "source": [
        "#libraries\n",
        "import numpy as np\n",
        "import matplotlib.pyplot as plt"
      ],
      "metadata": {
        "id": "UIHFOqDCHE9H"
      },
      "execution_count": null,
      "outputs": []
    },
    {
      "cell_type": "code",
      "execution_count": null,
      "metadata": {
        "colab": {
          "base_uri": "https://localhost:8080/"
        },
        "id": "4pCOyzb-HAp9",
        "outputId": "5dc8a1d8-1763-4ba2-a2e7-bb72c2870242"
      },
      "outputs": [
        {
          "output_type": "execute_result",
          "data": {
            "text/plain": [
              "array([[ 1,  2,  3,  4,  5],\n",
              "       [ 6,  7,  8,  9, 10],\n",
              "       [11, 12, 13, 14, 15]])"
            ]
          },
          "metadata": {},
          "execution_count": 4
        }
      ],
      "source": [
        "# Create a 2D array of size 3x5\n",
        "x = np.array([[1, 2, 3, 4, 5],\n",
        "              [6, 7, 8, 9, 10],\n",
        "              [11, 12, 13, 14, 15]])\n",
        "x"
      ]
    },
    {
      "cell_type": "code",
      "source": [
        "# SHAPE\n",
        "print(\"SHAPE: \", x.shape)\n"
      ],
      "metadata": {
        "colab": {
          "base_uri": "https://localhost:8080/"
        },
        "id": "8Z8oqr8mHRdH",
        "outputId": "4384db66-95f1-49b6-a86f-ef2283a90f3b"
      },
      "execution_count": null,
      "outputs": [
        {
          "output_type": "stream",
          "name": "stdout",
          "text": [
            "SHAPE:  (3, 5)\n"
          ]
        }
      ]
    },
    {
      "cell_type": "code",
      "source": [
        "#slice 1\n",
        "slice1 = x[-1, 2:]\n",
        "print(slice1)\n"
      ],
      "metadata": {
        "colab": {
          "base_uri": "https://localhost:8080/"
        },
        "id": "UGw6FiIDHcsz",
        "outputId": "9b30c58c-4a10-4b14-d010-322f645a01e8"
      },
      "execution_count": null,
      "outputs": [
        {
          "output_type": "stream",
          "name": "stdout",
          "text": [
            "[13 14 15]\n"
          ]
        }
      ]
    },
    {
      "cell_type": "code",
      "source": [
        "#slice 2\n",
        "slice2 = x[0:3, 2:5]\n",
        "print(slice2)"
      ],
      "metadata": {
        "colab": {
          "base_uri": "https://localhost:8080/"
        },
        "id": "_LCG167_HmTC",
        "outputId": "5b7c9185-eec2-40f6-b0c0-52f49a302a06"
      },
      "execution_count": null,
      "outputs": [
        {
          "output_type": "stream",
          "name": "stdout",
          "text": [
            "[[ 3  4  5]\n",
            " [ 8  9 10]\n",
            " [13 14 15]]\n"
          ]
        }
      ]
    },
    {
      "cell_type": "code",
      "source": [
        "# Squaring\n",
        "squared_array = np.square(x)\n",
        "print(squared_array)"
      ],
      "metadata": {
        "colab": {
          "base_uri": "https://localhost:8080/"
        },
        "id": "CzdXwNIFHoka",
        "outputId": "b32f2c3d-cb7a-4e9f-e2bf-25e863b804ab"
      },
      "execution_count": null,
      "outputs": [
        {
          "output_type": "stream",
          "name": "stdout",
          "text": [
            "[[  1   4   9  16  25]\n",
            " [ 36  49  64  81 100]\n",
            " [121 144 169 196 225]]\n"
          ]
        }
      ]
    },
    {
      "cell_type": "markdown",
      "source": [
        "Exercise 2:\n",
        "1. Use the following three functions to make some plots:\n",
        "\n",
        "You are given the code for the first function. Notice that z is passed in as a numpy array and that the\n",
        "functions are returned as numpy arrays. Parameters are passed in as floats.\n",
        "def logistic(z: np.ndarray, a: float, b: float):\n",
        "\n",
        "You should write a function to compute the rectified linear unit. The input should be a numpy array for\n",
        "z and a positive float for e.\n",
        "2. However, the use of ax.set_xlabel() instead of plt.xlabel(). The difference is tiny, but\n",
        "you should be aware of it. I will use this plotting syntax from now on.\n",
        "What else do we need to do to make this figure better? Here are some options:\n",
        "● Make labels bigger!\n",
        "● Make line fatter\n",
        "● Make the grid less pronounced\n",
        "● Make a figure plot bigger\n",
        "\n",
        "3. Do the following:\n",
        "● Make a figure with the logistic function, hyperbolic tangent, and rectified linear unit.\n",
        "● Use different line styles for each plot\n",
        "\n",
        "● Put a legend on your figure"
      ],
      "metadata": {
        "id": "v48RplbEcfuq"
      }
    },
    {
      "cell_type": "markdown",
      "source": [
        "\n",
        "\n",
        "---\n",
        "\n"
      ],
      "metadata": {
        "id": "PhUVv02-Hudu"
      }
    },
    {
      "cell_type": "markdown",
      "source": [
        "Data"
      ],
      "metadata": {
        "id": "p8pAo9R8JadU"
      }
    },
    {
      "cell_type": "code",
      "source": [
        "#Z\n",
        "z = np.linspace(-5, 5, 400)\n",
        "#a\n",
        "a = 1\n",
        "#b\n",
        "b = 0\n",
        "#e\n",
        "e = 0"
      ],
      "metadata": {
        "id": "RShqil58JdEC"
      },
      "execution_count": null,
      "outputs": []
    },
    {
      "cell_type": "markdown",
      "source": [
        "**LOGISTIC FORMULA**"
      ],
      "metadata": {
        "id": "l-JkO_-RIYWK"
      }
    },
    {
      "cell_type": "code",
      "source": [
        "#INITIALIZING THE WAY MENTIONED IN MANUAL\n",
        "def logistic(z: np.ndarray, a: float, b: float):\n",
        "    return 1 / (1 + (b*np.exp(-(a*z) )))\n",
        "    #directly returning value acording to formula"
      ],
      "metadata": {
        "id": "tk--0moHImyc"
      },
      "execution_count": null,
      "outputs": []
    },
    {
      "cell_type": "markdown",
      "source": [
        "**HYPERBOLIC FORMULA**"
      ],
      "metadata": {
        "id": "7rvxv29cIdIW"
      }
    },
    {
      "cell_type": "code",
      "source": [
        "#INITIALIZING THE WAY MENTIONED IN MANUAL\n",
        "def hyperbolic_tangent(z: np.ndarray, a: float, b: float):\n",
        "    return np.tanh(a * z + b)\n",
        "        #directly returning value acording to formula"
      ],
      "metadata": {
        "id": "bYwo1wiUInMC"
      },
      "execution_count": null,
      "outputs": []
    },
    {
      "cell_type": "markdown",
      "source": [
        "**RECTIFIED LINEAR UNIT**"
      ],
      "metadata": {
        "id": "oOrjGZI0IhXc"
      }
    },
    {
      "cell_type": "code",
      "source": [
        "#INITIALIZING THE WAY MENTIONED IN MANUAL\n",
        "def rectified_linear_unit(z: np.ndarray, e: float):\n",
        "    return np.maximum(z, e)\n",
        "        #directly returning value acording to formula"
      ],
      "metadata": {
        "id": "_F2FVcEsJNQ8"
      },
      "execution_count": null,
      "outputs": []
    },
    {
      "cell_type": "markdown",
      "source": [
        "CALLING FUNCTIONS"
      ],
      "metadata": {
        "id": "SKaXXd0dJvBh"
      }
    },
    {
      "cell_type": "code",
      "source": [
        "#FUNCTION I\n",
        "logisticFunction = logistic(z, a, b)\n",
        "logisticFunction"
      ],
      "metadata": {
        "colab": {
          "base_uri": "https://localhost:8080/"
        },
        "id": "Gfr9omErJwaJ",
        "outputId": "fd695a35-a98c-4358-93bd-cb76234b27e8"
      },
      "execution_count": null,
      "outputs": [
        {
          "output_type": "execute_result",
          "data": {
            "text/plain": [
              "array([1., 1., 1., 1., 1., 1., 1., 1., 1., 1., 1., 1., 1., 1., 1., 1., 1.,\n",
              "       1., 1., 1., 1., 1., 1., 1., 1., 1., 1., 1., 1., 1., 1., 1., 1., 1.,\n",
              "       1., 1., 1., 1., 1., 1., 1., 1., 1., 1., 1., 1., 1., 1., 1., 1., 1.,\n",
              "       1., 1., 1., 1., 1., 1., 1., 1., 1., 1., 1., 1., 1., 1., 1., 1., 1.,\n",
              "       1., 1., 1., 1., 1., 1., 1., 1., 1., 1., 1., 1., 1., 1., 1., 1., 1.,\n",
              "       1., 1., 1., 1., 1., 1., 1., 1., 1., 1., 1., 1., 1., 1., 1., 1., 1.,\n",
              "       1., 1., 1., 1., 1., 1., 1., 1., 1., 1., 1., 1., 1., 1., 1., 1., 1.,\n",
              "       1., 1., 1., 1., 1., 1., 1., 1., 1., 1., 1., 1., 1., 1., 1., 1., 1.,\n",
              "       1., 1., 1., 1., 1., 1., 1., 1., 1., 1., 1., 1., 1., 1., 1., 1., 1.,\n",
              "       1., 1., 1., 1., 1., 1., 1., 1., 1., 1., 1., 1., 1., 1., 1., 1., 1.,\n",
              "       1., 1., 1., 1., 1., 1., 1., 1., 1., 1., 1., 1., 1., 1., 1., 1., 1.,\n",
              "       1., 1., 1., 1., 1., 1., 1., 1., 1., 1., 1., 1., 1., 1., 1., 1., 1.,\n",
              "       1., 1., 1., 1., 1., 1., 1., 1., 1., 1., 1., 1., 1., 1., 1., 1., 1.,\n",
              "       1., 1., 1., 1., 1., 1., 1., 1., 1., 1., 1., 1., 1., 1., 1., 1., 1.,\n",
              "       1., 1., 1., 1., 1., 1., 1., 1., 1., 1., 1., 1., 1., 1., 1., 1., 1.,\n",
              "       1., 1., 1., 1., 1., 1., 1., 1., 1., 1., 1., 1., 1., 1., 1., 1., 1.,\n",
              "       1., 1., 1., 1., 1., 1., 1., 1., 1., 1., 1., 1., 1., 1., 1., 1., 1.,\n",
              "       1., 1., 1., 1., 1., 1., 1., 1., 1., 1., 1., 1., 1., 1., 1., 1., 1.,\n",
              "       1., 1., 1., 1., 1., 1., 1., 1., 1., 1., 1., 1., 1., 1., 1., 1., 1.,\n",
              "       1., 1., 1., 1., 1., 1., 1., 1., 1., 1., 1., 1., 1., 1., 1., 1., 1.,\n",
              "       1., 1., 1., 1., 1., 1., 1., 1., 1., 1., 1., 1., 1., 1., 1., 1., 1.,\n",
              "       1., 1., 1., 1., 1., 1., 1., 1., 1., 1., 1., 1., 1., 1., 1., 1., 1.,\n",
              "       1., 1., 1., 1., 1., 1., 1., 1., 1., 1., 1., 1., 1., 1., 1., 1., 1.,\n",
              "       1., 1., 1., 1., 1., 1., 1., 1., 1.])"
            ]
          },
          "metadata": {},
          "execution_count": 22
        }
      ]
    },
    {
      "cell_type": "code",
      "source": [
        "#FUNCTION II\n",
        "tanhFunction = hyperbolic_tangent(z, a, b)\n",
        "tanhFunction"
      ],
      "metadata": {
        "colab": {
          "base_uri": "https://localhost:8080/"
        },
        "id": "FSckvUIjKFm9",
        "outputId": "c313772c-9560-410e-c1e9-2a8831752c95"
      },
      "execution_count": null,
      "outputs": [
        {
          "output_type": "execute_result",
          "data": {
            "text/plain": [
              "array([-0.9999092 , -0.99990454, -0.99989963, -0.99989447, -0.99988905,\n",
              "       -0.99988334, -0.99987735, -0.99987104, -0.99986442, -0.99985745,\n",
              "       -0.99985012, -0.99984242, -0.99983432, -0.9998258 , -0.99981685,\n",
              "       -0.99980743, -0.99979754, -0.99978713, -0.99977619, -0.99976469,\n",
              "       -0.99975259, -0.99973988, -0.99972651, -0.99971245, -0.99969767,\n",
              "       -0.99968213, -0.9996658 , -0.99964862, -0.99963056, -0.99961158,\n",
              "       -0.99959161, -0.99957063, -0.99954856, -0.99952536, -0.99950097,\n",
              "       -0.99947532, -0.99944836, -0.99942001, -0.99939021, -0.99935888,\n",
              "       -0.99932593, -0.99929129, -0.99925488, -0.99921659, -0.99917634,\n",
              "       -0.99913402, -0.99908952, -0.99904275, -0.99899357, -0.99894186,\n",
              "       -0.9988875 , -0.99883035, -0.99877026, -0.99870709, -0.99864067,\n",
              "       -0.99857085, -0.99849744, -0.99842027, -0.99833913, -0.99825383,\n",
              "       -0.99816416, -0.99806988, -0.99797077, -0.99786657, -0.99775703,\n",
              "       -0.99764187, -0.99752081, -0.99739354, -0.99725974, -0.99711909,\n",
              "       -0.99697122, -0.99681578, -0.99665238, -0.99648061, -0.99630003,\n",
              "       -0.99611021, -0.99591068, -0.99570093, -0.99548044, -0.99524867,\n",
              "       -0.99500505, -0.99474897, -0.9944798 , -0.99419687, -0.99389948,\n",
              "       -0.9935869 , -0.99325836, -0.99291305, -0.99255012, -0.99216867,\n",
              "       -0.99176778, -0.99134645, -0.99090365, -0.99043831, -0.98994928,\n",
              "       -0.98943538, -0.98889534, -0.98832786, -0.98773156, -0.98710499,\n",
              "       -0.98644665, -0.98575493, -0.98502817, -0.98426463, -0.98346248,\n",
              "       -0.98261979, -0.98173456, -0.98080467, -0.97982793, -0.97880202,\n",
              "       -0.97772452, -0.97659289, -0.9754045 , -0.97415656, -0.97284617,\n",
              "       -0.97147029, -0.97002576, -0.96850926, -0.96691732, -0.96524633,\n",
              "       -0.9634925 , -0.9616519 , -0.95972039, -0.9576937 , -0.95556735,\n",
              "       -0.95333668, -0.95099682, -0.94854273, -0.94596913, -0.94327057,\n",
              "       -0.94044136, -0.93747558, -0.93436712, -0.93110961, -0.92769647,\n",
              "       -0.92412087, -0.92037575, -0.91645381, -0.91234751, -0.90804907,\n",
              "       -0.90355046, -0.89884344, -0.8939195 , -0.88876992, -0.88338575,\n",
              "       -0.87775782, -0.87187677, -0.865733  , -0.85931677, -0.85261815,\n",
              "       -0.84562706, -0.83833328, -0.8307265 , -0.82279629, -0.81453221,\n",
              "       -0.80592376, -0.79696046, -0.78763187, -0.77792765, -0.76783759,\n",
              "       -0.75735164, -0.74646   , -0.73515316, -0.72342193, -0.71125754,\n",
              "       -0.69865169, -0.68559661, -0.67208513, -0.65811078, -0.6436678 ,\n",
              "       -0.6287513 , -0.61335726, -0.59748265, -0.58112548, -0.5642849 ,\n",
              "       -0.54696126, -0.52915617, -0.51087256, -0.49211478, -0.47288862,\n",
              "       -0.45320136, -0.43306182, -0.4124804 , -0.39146909, -0.3700415 ,\n",
              "       -0.34821281, -0.32599985, -0.303421  , -0.28049619, -0.25724684,\n",
              "       -0.23369582, -0.20986735, -0.18578694, -0.16148128, -0.13697813,\n",
              "       -0.11230619, -0.087495  , -0.06257478, -0.03757628, -0.01253067,\n",
              "        0.01253067,  0.03757628,  0.06257478,  0.087495  ,  0.11230619,\n",
              "        0.13697813,  0.16148128,  0.18578694,  0.20986735,  0.23369582,\n",
              "        0.25724684,  0.28049619,  0.303421  ,  0.32599985,  0.34821281,\n",
              "        0.3700415 ,  0.39146909,  0.4124804 ,  0.43306182,  0.45320136,\n",
              "        0.47288862,  0.49211478,  0.51087256,  0.52915617,  0.54696126,\n",
              "        0.5642849 ,  0.58112548,  0.59748265,  0.61335726,  0.6287513 ,\n",
              "        0.6436678 ,  0.65811078,  0.67208513,  0.68559661,  0.69865169,\n",
              "        0.71125754,  0.72342193,  0.73515316,  0.74646   ,  0.75735164,\n",
              "        0.76783759,  0.77792765,  0.78763187,  0.79696046,  0.80592376,\n",
              "        0.81453221,  0.82279629,  0.8307265 ,  0.83833328,  0.84562706,\n",
              "        0.85261815,  0.85931677,  0.865733  ,  0.87187677,  0.87775782,\n",
              "        0.88338575,  0.88876992,  0.8939195 ,  0.89884344,  0.90355046,\n",
              "        0.90804907,  0.91234751,  0.91645381,  0.92037575,  0.92412087,\n",
              "        0.92769647,  0.93110961,  0.93436712,  0.93747558,  0.94044136,\n",
              "        0.94327057,  0.94596913,  0.94854273,  0.95099682,  0.95333668,\n",
              "        0.95556735,  0.9576937 ,  0.95972039,  0.9616519 ,  0.9634925 ,\n",
              "        0.96524633,  0.96691732,  0.96850926,  0.97002576,  0.97147029,\n",
              "        0.97284617,  0.97415656,  0.9754045 ,  0.97659289,  0.97772452,\n",
              "        0.97880202,  0.97982793,  0.98080467,  0.98173456,  0.98261979,\n",
              "        0.98346248,  0.98426463,  0.98502817,  0.98575493,  0.98644665,\n",
              "        0.98710499,  0.98773156,  0.98832786,  0.98889534,  0.98943538,\n",
              "        0.98994928,  0.99043831,  0.99090365,  0.99134645,  0.99176778,\n",
              "        0.99216867,  0.99255012,  0.99291305,  0.99325836,  0.9935869 ,\n",
              "        0.99389948,  0.99419687,  0.9944798 ,  0.99474897,  0.99500505,\n",
              "        0.99524867,  0.99548044,  0.99570093,  0.99591068,  0.99611021,\n",
              "        0.99630003,  0.99648061,  0.99665238,  0.99681578,  0.99697122,\n",
              "        0.99711909,  0.99725974,  0.99739354,  0.99752081,  0.99764187,\n",
              "        0.99775703,  0.99786657,  0.99797077,  0.99806988,  0.99816416,\n",
              "        0.99825383,  0.99833913,  0.99842027,  0.99849744,  0.99857085,\n",
              "        0.99864067,  0.99870709,  0.99877026,  0.99883035,  0.9988875 ,\n",
              "        0.99894186,  0.99899357,  0.99904275,  0.99908952,  0.99913402,\n",
              "        0.99917634,  0.99921659,  0.99925488,  0.99929129,  0.99932593,\n",
              "        0.99935888,  0.99939021,  0.99942001,  0.99944836,  0.99947532,\n",
              "        0.99950097,  0.99952536,  0.99954856,  0.99957063,  0.99959161,\n",
              "        0.99961158,  0.99963056,  0.99964862,  0.9996658 ,  0.99968213,\n",
              "        0.99969767,  0.99971245,  0.99972651,  0.99973988,  0.99975259,\n",
              "        0.99976469,  0.99977619,  0.99978713,  0.99979754,  0.99980743,\n",
              "        0.99981685,  0.9998258 ,  0.99983432,  0.99984242,  0.99985012,\n",
              "        0.99985745,  0.99986442,  0.99987104,  0.99987735,  0.99988334,\n",
              "        0.99988905,  0.99989447,  0.99989963,  0.99990454,  0.9999092 ])"
            ]
          },
          "metadata": {},
          "execution_count": 23
        }
      ]
    },
    {
      "cell_type": "code",
      "source": [
        "#FUNCTION III\n",
        "reluFunction = rectified_linear_unit(z, e)\n",
        "reluFunction"
      ],
      "metadata": {
        "colab": {
          "base_uri": "https://localhost:8080/"
        },
        "id": "sBxxrIWJKGwH",
        "outputId": "33ce853f-73ea-4d04-e7fa-b75e2a8ecac6"
      },
      "execution_count": null,
      "outputs": [
        {
          "output_type": "execute_result",
          "data": {
            "text/plain": [
              "array([0.        , 0.        , 0.        , 0.        , 0.        ,\n",
              "       0.        , 0.        , 0.        , 0.        , 0.        ,\n",
              "       0.        , 0.        , 0.        , 0.        , 0.        ,\n",
              "       0.        , 0.        , 0.        , 0.        , 0.        ,\n",
              "       0.        , 0.        , 0.        , 0.        , 0.        ,\n",
              "       0.        , 0.        , 0.        , 0.        , 0.        ,\n",
              "       0.        , 0.        , 0.        , 0.        , 0.        ,\n",
              "       0.        , 0.        , 0.        , 0.        , 0.        ,\n",
              "       0.        , 0.        , 0.        , 0.        , 0.        ,\n",
              "       0.        , 0.        , 0.        , 0.        , 0.        ,\n",
              "       0.        , 0.        , 0.        , 0.        , 0.        ,\n",
              "       0.        , 0.        , 0.        , 0.        , 0.        ,\n",
              "       0.        , 0.        , 0.        , 0.        , 0.        ,\n",
              "       0.        , 0.        , 0.        , 0.        , 0.        ,\n",
              "       0.        , 0.        , 0.        , 0.        , 0.        ,\n",
              "       0.        , 0.        , 0.        , 0.        , 0.        ,\n",
              "       0.        , 0.        , 0.        , 0.        , 0.        ,\n",
              "       0.        , 0.        , 0.        , 0.        , 0.        ,\n",
              "       0.        , 0.        , 0.        , 0.        , 0.        ,\n",
              "       0.        , 0.        , 0.        , 0.        , 0.        ,\n",
              "       0.        , 0.        , 0.        , 0.        , 0.        ,\n",
              "       0.        , 0.        , 0.        , 0.        , 0.        ,\n",
              "       0.        , 0.        , 0.        , 0.        , 0.        ,\n",
              "       0.        , 0.        , 0.        , 0.        , 0.        ,\n",
              "       0.        , 0.        , 0.        , 0.        , 0.        ,\n",
              "       0.        , 0.        , 0.        , 0.        , 0.        ,\n",
              "       0.        , 0.        , 0.        , 0.        , 0.        ,\n",
              "       0.        , 0.        , 0.        , 0.        , 0.        ,\n",
              "       0.        , 0.        , 0.        , 0.        , 0.        ,\n",
              "       0.        , 0.        , 0.        , 0.        , 0.        ,\n",
              "       0.        , 0.        , 0.        , 0.        , 0.        ,\n",
              "       0.        , 0.        , 0.        , 0.        , 0.        ,\n",
              "       0.        , 0.        , 0.        , 0.        , 0.        ,\n",
              "       0.        , 0.        , 0.        , 0.        , 0.        ,\n",
              "       0.        , 0.        , 0.        , 0.        , 0.        ,\n",
              "       0.        , 0.        , 0.        , 0.        , 0.        ,\n",
              "       0.        , 0.        , 0.        , 0.        , 0.        ,\n",
              "       0.        , 0.        , 0.        , 0.        , 0.        ,\n",
              "       0.        , 0.        , 0.        , 0.        , 0.        ,\n",
              "       0.        , 0.        , 0.        , 0.        , 0.        ,\n",
              "       0.01253133, 0.03759398, 0.06265664, 0.0877193 , 0.11278195,\n",
              "       0.13784461, 0.16290727, 0.18796992, 0.21303258, 0.23809524,\n",
              "       0.26315789, 0.28822055, 0.31328321, 0.33834586, 0.36340852,\n",
              "       0.38847118, 0.41353383, 0.43859649, 0.46365915, 0.4887218 ,\n",
              "       0.51378446, 0.53884712, 0.56390977, 0.58897243, 0.61403509,\n",
              "       0.63909774, 0.6641604 , 0.68922306, 0.71428571, 0.73934837,\n",
              "       0.76441103, 0.78947368, 0.81453634, 0.839599  , 0.86466165,\n",
              "       0.88972431, 0.91478697, 0.93984962, 0.96491228, 0.98997494,\n",
              "       1.01503759, 1.04010025, 1.06516291, 1.09022556, 1.11528822,\n",
              "       1.14035088, 1.16541353, 1.19047619, 1.21553885, 1.2406015 ,\n",
              "       1.26566416, 1.29072682, 1.31578947, 1.34085213, 1.36591479,\n",
              "       1.39097744, 1.4160401 , 1.44110276, 1.46616541, 1.49122807,\n",
              "       1.51629073, 1.54135338, 1.56641604, 1.5914787 , 1.61654135,\n",
              "       1.64160401, 1.66666667, 1.69172932, 1.71679198, 1.74185464,\n",
              "       1.76691729, 1.79197995, 1.81704261, 1.84210526, 1.86716792,\n",
              "       1.89223058, 1.91729323, 1.94235589, 1.96741855, 1.9924812 ,\n",
              "       2.01754386, 2.04260652, 2.06766917, 2.09273183, 2.11779449,\n",
              "       2.14285714, 2.1679198 , 2.19298246, 2.21804511, 2.24310777,\n",
              "       2.26817043, 2.29323308, 2.31829574, 2.3433584 , 2.36842105,\n",
              "       2.39348371, 2.41854637, 2.44360902, 2.46867168, 2.49373434,\n",
              "       2.51879699, 2.54385965, 2.56892231, 2.59398496, 2.61904762,\n",
              "       2.64411028, 2.66917293, 2.69423559, 2.71929825, 2.7443609 ,\n",
              "       2.76942356, 2.79448622, 2.81954887, 2.84461153, 2.86967419,\n",
              "       2.89473684, 2.9197995 , 2.94486216, 2.96992481, 2.99498747,\n",
              "       3.02005013, 3.04511278, 3.07017544, 3.0952381 , 3.12030075,\n",
              "       3.14536341, 3.17042607, 3.19548872, 3.22055138, 3.24561404,\n",
              "       3.27067669, 3.29573935, 3.32080201, 3.34586466, 3.37092732,\n",
              "       3.39598997, 3.42105263, 3.44611529, 3.47117794, 3.4962406 ,\n",
              "       3.52130326, 3.54636591, 3.57142857, 3.59649123, 3.62155388,\n",
              "       3.64661654, 3.6716792 , 3.69674185, 3.72180451, 3.74686717,\n",
              "       3.77192982, 3.79699248, 3.82205514, 3.84711779, 3.87218045,\n",
              "       3.89724311, 3.92230576, 3.94736842, 3.97243108, 3.99749373,\n",
              "       4.02255639, 4.04761905, 4.0726817 , 4.09774436, 4.12280702,\n",
              "       4.14786967, 4.17293233, 4.19799499, 4.22305764, 4.2481203 ,\n",
              "       4.27318296, 4.29824561, 4.32330827, 4.34837093, 4.37343358,\n",
              "       4.39849624, 4.4235589 , 4.44862155, 4.47368421, 4.49874687,\n",
              "       4.52380952, 4.54887218, 4.57393484, 4.59899749, 4.62406015,\n",
              "       4.64912281, 4.67418546, 4.69924812, 4.72431078, 4.74937343,\n",
              "       4.77443609, 4.79949875, 4.8245614 , 4.84962406, 4.87468672,\n",
              "       4.89974937, 4.92481203, 4.94987469, 4.97493734, 5.        ])"
            ]
          },
          "metadata": {},
          "execution_count": 24
        }
      ]
    },
    {
      "cell_type": "markdown",
      "source": [
        "VISUALIZING"
      ],
      "metadata": {
        "id": "nkds6iAdKgAB"
      }
    },
    {
      "cell_type": "code",
      "source": [
        "# fg=figure\n",
        "#ax=axis\n",
        "fig, ax = plt.subplots(figsize=(5,5))\n",
        "# Plot the functions with different line styles and labels\n",
        "ax.plot(z, logisticFunction, label='Logistic Function', linestyle='-', linewidth=2)\n",
        "ax.plot(z, tanhFunction, label='Hyperbolic Tangent Function', linestyle='--', linewidth=2)\n",
        "ax.plot(z, reluFunction, label='Rectified Linear Unit Function', linestyle=':', linewidth=2)"
      ],
      "metadata": {
        "colab": {
          "base_uri": "https://localhost:8080/",
          "height": 462
        },
        "id": "8IOeY2wQKhcH",
        "outputId": "d2cffcd2-192d-4bb2-eef5-559caae90257"
      },
      "execution_count": null,
      "outputs": [
        {
          "output_type": "execute_result",
          "data": {
            "text/plain": [
              "[<matplotlib.lines.Line2D at 0x7f9a452dee90>]"
            ]
          },
          "metadata": {},
          "execution_count": 28
        },
        {
          "output_type": "display_data",
          "data": {
            "text/plain": [
              "<Figure size 500x500 with 1 Axes>"
            ],
            "image/png": "[encoded data removed]"
          },
          "metadata": {}
        }
      ]
    },
    {
      "cell_type": "markdown",
      "source": [
        "LABELS"
      ],
      "metadata": {
        "id": "fiaQUzmpK3Q9"
      }
    },
    {
      "cell_type": "code",
      "source": [
        "# TITTLE & LEGEND\n",
        "ax.set_title('Activation Functions', fontsize=14)\n",
        "ax.legend()"
      ],
      "metadata": {
        "colab": {
          "base_uri": "https://localhost:8080/"
        },
        "id": "GK7M69zbK4kB",
        "outputId": "1c352220-264f-447b-8506-aa037377c2a0"
      },
      "execution_count": null,
      "outputs": [
        {
          "output_type": "execute_result",
          "data": {
            "text/plain": [
              "<matplotlib.legend.Legend at 0x7f9a4549f340>"
            ]
          },
          "metadata": {},
          "execution_count": 29
        }
      ]
    }
  ]
}